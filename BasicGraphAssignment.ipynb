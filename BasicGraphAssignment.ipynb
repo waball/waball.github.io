{
 "cells": [
  {
   "cell_type": "code",
   "execution_count": 78,
   "metadata": {},
   "outputs": [],
   "source": [
    "%matplotlib inline"
   ]
  },
  {
   "cell_type": "code",
   "execution_count": 79,
   "metadata": {},
   "outputs": [],
   "source": [
    "import pandas as pd"
   ]
  },
  {
   "cell_type": "code",
   "execution_count": 80,
   "metadata": {},
   "outputs": [],
   "source": [
    "dfO = pd.read_csv('OpidsVA.csv')"
   ]
  },
  {
   "cell_type": "code",
   "execution_count": 81,
   "metadata": {},
   "outputs": [],
   "source": [
    "dfP = pd.read_csv('presidents.csv')"
   ]
  },
  {
   "cell_type": "code",
   "execution_count": 143,
   "metadata": {},
   "outputs": [],
   "source": [
    "dfVS = pd.read_csv('TOTALNSA.csv')"
   ]
  },
  {
   "cell_type": "code",
   "execution_count": 83,
   "metadata": {},
   "outputs": [
    {
     "data": {
      "text/html": [
       "<div>\n",
       "<style scoped>\n",
       "    .dataframe tbody tr th:only-of-type {\n",
       "        vertical-align: middle;\n",
       "    }\n",
       "\n",
       "    .dataframe tbody tr th {\n",
       "        vertical-align: top;\n",
       "    }\n",
       "\n",
       "    .dataframe thead th {\n",
       "        text-align: right;\n",
       "    }\n",
       "</style>\n",
       "<table border=\"1\" class=\"dataframe\">\n",
       "  <thead>\n",
       "    <tr style=\"text-align: right;\">\n",
       "      <th></th>\n",
       "      <th>FIPSCode</th>\n",
       "      <th>CountyName</th>\n",
       "      <th>FFHO-Rate</th>\n",
       "      <th>FPOO-Rate</th>\n",
       "      <th>HIV-Rate</th>\n",
       "      <th>MedianHouseholdIncome</th>\n",
       "    </tr>\n",
       "  </thead>\n",
       "  <tbody>\n",
       "    <tr>\n",
       "      <th>0</th>\n",
       "      <td>51001</td>\n",
       "      <td>Accomack</td>\n",
       "      <td>12.1</td>\n",
       "      <td>12.1</td>\n",
       "      <td>3.0</td>\n",
       "      <td>39040</td>\n",
       "    </tr>\n",
       "    <tr>\n",
       "      <th>1</th>\n",
       "      <td>51003</td>\n",
       "      <td>Albemarle</td>\n",
       "      <td>0.9</td>\n",
       "      <td>0.9</td>\n",
       "      <td>2.8</td>\n",
       "      <td>73132</td>\n",
       "    </tr>\n",
       "    <tr>\n",
       "      <th>2</th>\n",
       "      <td>51005</td>\n",
       "      <td>Alleghany</td>\n",
       "      <td>6.4</td>\n",
       "      <td>12.8</td>\n",
       "      <td>6.4</td>\n",
       "      <td>47037</td>\n",
       "    </tr>\n",
       "    <tr>\n",
       "      <th>3</th>\n",
       "      <td>51007</td>\n",
       "      <td>Amelia</td>\n",
       "      <td>7.7</td>\n",
       "      <td>0.0</td>\n",
       "      <td>7.7</td>\n",
       "      <td>56172</td>\n",
       "    </tr>\n",
       "    <tr>\n",
       "      <th>4</th>\n",
       "      <td>51009</td>\n",
       "      <td>Amherst</td>\n",
       "      <td>3.2</td>\n",
       "      <td>6.3</td>\n",
       "      <td>6.3</td>\n",
       "      <td>46497</td>\n",
       "    </tr>\n",
       "  </tbody>\n",
       "</table>\n",
       "</div>"
      ],
      "text/plain": [
       "   FIPSCode CountyName  FFHO-Rate  FPOO-Rate  HIV-Rate  MedianHouseholdIncome\n",
       "0     51001   Accomack       12.1       12.1       3.0                  39040\n",
       "1     51003  Albemarle        0.9        0.9       2.8                  73132\n",
       "2     51005  Alleghany        6.4       12.8       6.4                  47037\n",
       "3     51007     Amelia        7.7        0.0       7.7                  56172\n",
       "4     51009    Amherst        3.2        6.3       6.3                  46497"
      ]
     },
     "execution_count": 83,
     "metadata": {},
     "output_type": "execute_result"
    }
   ],
   "source": [
    "dfO.head()"
   ]
  },
  {
   "cell_type": "code",
   "execution_count": 84,
   "metadata": {},
   "outputs": [],
   "source": [
    "dfO = dfO.set_index('FIPSCode')"
   ]
  },
  {
   "cell_type": "code",
   "execution_count": 85,
   "metadata": {
    "scrolled": true
   },
   "outputs": [
    {
     "data": {
      "text/html": [
       "<div>\n",
       "<style scoped>\n",
       "    .dataframe tbody tr th:only-of-type {\n",
       "        vertical-align: middle;\n",
       "    }\n",
       "\n",
       "    .dataframe tbody tr th {\n",
       "        vertical-align: top;\n",
       "    }\n",
       "\n",
       "    .dataframe thead th {\n",
       "        text-align: right;\n",
       "    }\n",
       "</style>\n",
       "<table border=\"1\" class=\"dataframe\">\n",
       "  <thead>\n",
       "    <tr style=\"text-align: right;\">\n",
       "      <th></th>\n",
       "      <th>CountyName</th>\n",
       "      <th>FFHO-Rate</th>\n",
       "      <th>FPOO-Rate</th>\n",
       "      <th>HIV-Rate</th>\n",
       "      <th>MedianHouseholdIncome</th>\n",
       "    </tr>\n",
       "    <tr>\n",
       "      <th>FIPSCode</th>\n",
       "      <th></th>\n",
       "      <th></th>\n",
       "      <th></th>\n",
       "      <th></th>\n",
       "      <th></th>\n",
       "    </tr>\n",
       "  </thead>\n",
       "  <tbody>\n",
       "    <tr>\n",
       "      <th>51001</th>\n",
       "      <td>Accomack</td>\n",
       "      <td>12.1</td>\n",
       "      <td>12.1</td>\n",
       "      <td>3.0</td>\n",
       "      <td>39040</td>\n",
       "    </tr>\n",
       "    <tr>\n",
       "      <th>51003</th>\n",
       "      <td>Albemarle</td>\n",
       "      <td>0.9</td>\n",
       "      <td>0.9</td>\n",
       "      <td>2.8</td>\n",
       "      <td>73132</td>\n",
       "    </tr>\n",
       "    <tr>\n",
       "      <th>51005</th>\n",
       "      <td>Alleghany</td>\n",
       "      <td>6.4</td>\n",
       "      <td>12.8</td>\n",
       "      <td>6.4</td>\n",
       "      <td>47037</td>\n",
       "    </tr>\n",
       "    <tr>\n",
       "      <th>51007</th>\n",
       "      <td>Amelia</td>\n",
       "      <td>7.7</td>\n",
       "      <td>0.0</td>\n",
       "      <td>7.7</td>\n",
       "      <td>56172</td>\n",
       "    </tr>\n",
       "    <tr>\n",
       "      <th>51009</th>\n",
       "      <td>Amherst</td>\n",
       "      <td>3.2</td>\n",
       "      <td>6.3</td>\n",
       "      <td>6.3</td>\n",
       "      <td>46497</td>\n",
       "    </tr>\n",
       "  </tbody>\n",
       "</table>\n",
       "</div>"
      ],
      "text/plain": [
       "         CountyName  FFHO-Rate  FPOO-Rate  HIV-Rate  MedianHouseholdIncome\n",
       "FIPSCode                                                                  \n",
       "51001      Accomack       12.1       12.1       3.0                  39040\n",
       "51003     Albemarle        0.9        0.9       2.8                  73132\n",
       "51005     Alleghany        6.4       12.8       6.4                  47037\n",
       "51007        Amelia        7.7        0.0       7.7                  56172\n",
       "51009       Amherst        3.2        6.3       6.3                  46497"
      ]
     },
     "execution_count": 85,
     "metadata": {},
     "output_type": "execute_result"
    }
   ],
   "source": [
    "dfO.head()"
   ]
  },
  {
   "cell_type": "code",
   "execution_count": 155,
   "metadata": {},
   "outputs": [
    {
     "data": {
      "image/png": "[encoded data removed]",
      "text/plain": [
       "<Figure size 432x288 with 1 Axes>"
      ]
     },
     "metadata": {
      "needs_background": "light"
     },
     "output_type": "display_data"
    }
   ],
   "source": [
    "import matplotlib.pyplot as plt\n",
    "\n",
    "fig, ax = plt.subplots()\n",
    "\n",
    "ax.scatter(dfO['MedianHouseholdIncome'], dfO['FPOO-Rate'], alpha=0.5, c = 'b')\n",
    "fig.suptitle('Opiod Overdoses and Median Household Income')\n",
    "ax.xaxis.set_label_text('Median Household Income ($)')\n",
    "ax.yaxis.set_label_text('Opiod Overdoses per 100,000 County Residents')\n",
    "plt.show()\n",
    "\n",
    "# I chose a scatter plot to represent the relationship between of Opiod overdoses compared to median household income\n",
    "# becuase the order of the points is not relevant in observing this relationship."
   ]
  },
  {
   "cell_type": "code",
   "execution_count": 107,
   "metadata": {},
   "outputs": [
    {
     "data": {
      "image/png": "[encoded data removed]",
      "text/plain": [
       "<Figure size 432x288 with 1 Axes>"
      ]
     },
     "metadata": {
      "needs_background": "light"
     },
     "output_type": "display_data"
    }
   ],
   "source": [
    "import matplotlib.pyplot as plt\n",
    "\n",
    "fig, ax = plt.subplots()\n",
    "\n",
    "ax.scatter(dfO['FFHO-Rate'], dfO['FPOO-Rate'], alpha=0.5, c = 'b')\n",
    "fig.suptitle('Opiod Overdoses and Fentanyl/Heroin Overdose')\n",
    "ax.xaxis.set_label_text('Fentanyl and/or Heroin Overdoses per 100,000 County Residents')\n",
    "ax.yaxis.set_label_text('Opiod Overdoses per 100,000 County Residents')\n",
    "ax.set_xlim(-1,45)\n",
    "ax.set_xlim(-1,45)\n",
    "plt.show()\n",
    "\n",
    "# I used a scatter plot to the relationship between Opiod and Fentanyl/Heroin overdose because the the order of the data\n",
    "# points does not matter and the county info is not relevant in observing the relationship."
   ]
  },
  {
   "cell_type": "code",
   "execution_count": 88,
   "metadata": {},
   "outputs": [
    {
     "data": {
      "text/html": [
       "<div>\n",
       "<style scoped>\n",
       "    .dataframe tbody tr th:only-of-type {\n",
       "        vertical-align: middle;\n",
       "    }\n",
       "\n",
       "    .dataframe tbody tr th {\n",
       "        vertical-align: top;\n",
       "    }\n",
       "\n",
       "    .dataframe thead th {\n",
       "        text-align: right;\n",
       "    }\n",
       "</style>\n",
       "<table border=\"1\" class=\"dataframe\">\n",
       "  <thead>\n",
       "    <tr style=\"text-align: right;\">\n",
       "      <th></th>\n",
       "      <th>Name</th>\n",
       "      <th>Location</th>\n",
       "      <th>State</th>\n",
       "    </tr>\n",
       "  </thead>\n",
       "  <tbody>\n",
       "    <tr>\n",
       "      <th>0</th>\n",
       "      <td>George Washington</td>\n",
       "      <td>Westmoreland County</td>\n",
       "      <td>Virginia</td>\n",
       "    </tr>\n",
       "    <tr>\n",
       "      <th>1</th>\n",
       "      <td>John Adams</td>\n",
       "      <td>Braintree</td>\n",
       "      <td>Massachusetts</td>\n",
       "    </tr>\n",
       "    <tr>\n",
       "      <th>2</th>\n",
       "      <td>Thomas Jefferson</td>\n",
       "      <td>Shadwell</td>\n",
       "      <td>Virginia</td>\n",
       "    </tr>\n",
       "    <tr>\n",
       "      <th>3</th>\n",
       "      <td>James Madison</td>\n",
       "      <td>Port Conway</td>\n",
       "      <td>Virginia</td>\n",
       "    </tr>\n",
       "    <tr>\n",
       "      <th>4</th>\n",
       "      <td>James Monroe</td>\n",
       "      <td>Monroe Hall</td>\n",
       "      <td>Virginia</td>\n",
       "    </tr>\n",
       "  </tbody>\n",
       "</table>\n",
       "</div>"
      ],
      "text/plain": [
       "                Name             Location          State\n",
       "0  George Washington  Westmoreland County       Virginia\n",
       "1         John Adams            Braintree  Massachusetts\n",
       "2   Thomas Jefferson             Shadwell       Virginia\n",
       "3      James Madison          Port Conway       Virginia\n",
       "4       James Monroe          Monroe Hall       Virginia"
      ]
     },
     "execution_count": 88,
     "metadata": {},
     "output_type": "execute_result"
    }
   ],
   "source": [
    "dfP.head()"
   ]
  },
  {
   "cell_type": "code",
   "execution_count": 89,
   "metadata": {},
   "outputs": [],
   "source": [
    "dfP = dfP.set_index('Name')"
   ]
  },
  {
   "cell_type": "code",
   "execution_count": 90,
   "metadata": {},
   "outputs": [
    {
     "data": {
      "text/html": [
       "<div>\n",
       "<style scoped>\n",
       "    .dataframe tbody tr th:only-of-type {\n",
       "        vertical-align: middle;\n",
       "    }\n",
       "\n",
       "    .dataframe tbody tr th {\n",
       "        vertical-align: top;\n",
       "    }\n",
       "\n",
       "    .dataframe thead th {\n",
       "        text-align: right;\n",
       "    }\n",
       "</style>\n",
       "<table border=\"1\" class=\"dataframe\">\n",
       "  <thead>\n",
       "    <tr style=\"text-align: right;\">\n",
       "      <th></th>\n",
       "      <th>Location</th>\n",
       "      <th>State</th>\n",
       "    </tr>\n",
       "    <tr>\n",
       "      <th>Name</th>\n",
       "      <th></th>\n",
       "      <th></th>\n",
       "    </tr>\n",
       "  </thead>\n",
       "  <tbody>\n",
       "    <tr>\n",
       "      <th>George Washington</th>\n",
       "      <td>Westmoreland County</td>\n",
       "      <td>Virginia</td>\n",
       "    </tr>\n",
       "    <tr>\n",
       "      <th>John Adams</th>\n",
       "      <td>Braintree</td>\n",
       "      <td>Massachusetts</td>\n",
       "    </tr>\n",
       "    <tr>\n",
       "      <th>Thomas Jefferson</th>\n",
       "      <td>Shadwell</td>\n",
       "      <td>Virginia</td>\n",
       "    </tr>\n",
       "    <tr>\n",
       "      <th>James Madison</th>\n",
       "      <td>Port Conway</td>\n",
       "      <td>Virginia</td>\n",
       "    </tr>\n",
       "    <tr>\n",
       "      <th>James Monroe</th>\n",
       "      <td>Monroe Hall</td>\n",
       "      <td>Virginia</td>\n",
       "    </tr>\n",
       "  </tbody>\n",
       "</table>\n",
       "</div>"
      ],
      "text/plain": [
       "                              Location          State\n",
       "Name                                                 \n",
       "George Washington  Westmoreland County       Virginia\n",
       "John Adams                   Braintree  Massachusetts\n",
       "Thomas Jefferson              Shadwell       Virginia\n",
       "James Madison              Port Conway       Virginia\n",
       "James Monroe               Monroe Hall       Virginia"
      ]
     },
     "execution_count": 90,
     "metadata": {},
     "output_type": "execute_result"
    }
   ],
   "source": [
    "dfP.head()"
   ]
  },
  {
   "cell_type": "code",
   "execution_count": 130,
   "metadata": {},
   "outputs": [
    {
     "name": "stdout",
     "output_type": "stream",
     "text": [
      "Virginia                8\n",
      "Ohio                    7\n",
      "New York                5\n",
      "Massachusetts           4\n",
      "Texas                   2\n",
      "North Carolina          2\n",
      "Vermont                 2\n",
      "South/North Carolina    1\n",
      "Nebraska                1\n",
      "Iowa                    1\n",
      "Arkansas                1\n",
      "New Jersey              1\n",
      "California              1\n",
      "New Hampshire           1\n",
      "Hawaii                  1\n",
      "Connecticut             1\n",
      "Pennsylvania            1\n",
      "Georgia                 1\n",
      "Missouri                1\n",
      "Kentucky                1\n",
      "Illinois                1\n",
      "Name: State, dtype: int64\n"
     ]
    },
    {
     "data": {
      "text/plain": [
       "{'Virginia': 8,\n",
       " 'Ohio': 7,\n",
       " 'New York': 5,\n",
       " 'Massachusetts': 4,\n",
       " 'Texas': 2,\n",
       " 'North Carolina': 2,\n",
       " 'Vermont': 2,\n",
       " 'South/North Carolina': 1,\n",
       " 'Nebraska': 1,\n",
       " 'Iowa': 1,\n",
       " 'Arkansas': 1,\n",
       " 'New Jersey': 1,\n",
       " 'California': 1,\n",
       " 'New Hampshire': 1,\n",
       " 'Hawaii': 1,\n",
       " 'Connecticut': 1,\n",
       " 'Pennsylvania': 1,\n",
       " 'Georgia': 1,\n",
       " 'Missouri': 1,\n",
       " 'Kentucky': 1,\n",
       " 'Illinois': 1}"
      ]
     },
     "execution_count": 130,
     "metadata": {},
     "output_type": "execute_result"
    }
   ],
   "source": [
    "dfStates = dfP['State'].value_counts()\n",
    "print(dfStates)\n",
    "dfS = dict(dfP['State'].value_counts())\n",
    "dfS"
   ]
  },
  {
   "cell_type": "code",
   "execution_count": 138,
   "metadata": {},
   "outputs": [
    {
     "data": {
      "image/png": "[encoded data removed]",
      "text/plain": [
       "<Figure size 432x288 with 1 Axes>"
      ]
     },
     "metadata": {
      "needs_background": "light"
     },
     "output_type": "display_data"
    }
   ],
   "source": [
    "import matplotlib.pyplot as plt\n",
    "\n",
    "dict = {'Virginia': 8,\n",
    " 'Ohio': 7,\n",
    " 'New York': 5,\n",
    " 'Massachusetts': 4,\n",
    " 'Texas': 2,\n",
    " 'North Carolina': 2,\n",
    " 'Vermont': 2,\n",
    " 'South/North Carolina': 1,\n",
    " 'Nebraska': 1,\n",
    " 'Iowa': 1,\n",
    " 'Arkansas': 1,\n",
    " 'New Jersey': 1,\n",
    " 'California': 1,\n",
    " 'New Hampshire': 1,\n",
    " 'Hawaii': 1,\n",
    " 'Connecticut': 1,\n",
    " 'Pennsylvania': 1,\n",
    " 'Georgia': 1,\n",
    " 'Missouri': 1,\n",
    " 'Kentucky': 1,\n",
    " 'Illinois': 1}\n",
    "state = dict.keys()\n",
    "frequency = dict.values()\n",
    "\n",
    "fig, ax = plt.subplots()\n",
    "\n",
    "ax.bar(state, frequency, alpha=0.75)\n",
    "fig.suptitle('Frequency of President Birthplace by State')\n",
    "ax.xaxis.set_label_text('Birthplace State')\n",
    "ax.yaxis.set_label_text('# of Presidents Born')\n",
    "plt.show()\n",
    "\n",
    "# I chose a bar graph to function as a histogram because \".hist\" does not work well for the frequency of words."
   ]
  },
  {
   "cell_type": "code",
   "execution_count": 144,
   "metadata": {},
   "outputs": [
    {
     "data": {
      "text/html": [
       "<div>\n",
       "<style scoped>\n",
       "    .dataframe tbody tr th:only-of-type {\n",
       "        vertical-align: middle;\n",
       "    }\n",
       "\n",
       "    .dataframe tbody tr th {\n",
       "        vertical-align: top;\n",
       "    }\n",
       "\n",
       "    .dataframe thead th {\n",
       "        text-align: right;\n",
       "    }\n",
       "</style>\n",
       "<table border=\"1\" class=\"dataframe\">\n",
       "  <thead>\n",
       "    <tr style=\"text-align: right;\">\n",
       "      <th></th>\n",
       "      <th>DATE</th>\n",
       "      <th>TOTALNSA</th>\n",
       "    </tr>\n",
       "  </thead>\n",
       "  <tbody>\n",
       "    <tr>\n",
       "      <th>0</th>\n",
       "      <td>1976-01-01</td>\n",
       "      <td>885.200</td>\n",
       "    </tr>\n",
       "    <tr>\n",
       "      <th>1</th>\n",
       "      <td>1976-02-01</td>\n",
       "      <td>994.700</td>\n",
       "    </tr>\n",
       "    <tr>\n",
       "      <th>2</th>\n",
       "      <td>1976-03-01</td>\n",
       "      <td>1243.600</td>\n",
       "    </tr>\n",
       "    <tr>\n",
       "      <th>3</th>\n",
       "      <td>1976-04-01</td>\n",
       "      <td>1191.200</td>\n",
       "    </tr>\n",
       "    <tr>\n",
       "      <th>4</th>\n",
       "      <td>1976-05-01</td>\n",
       "      <td>1203.200</td>\n",
       "    </tr>\n",
       "    <tr>\n",
       "      <th>...</th>\n",
       "      <td>...</td>\n",
       "      <td>...</td>\n",
       "    </tr>\n",
       "    <tr>\n",
       "      <th>508</th>\n",
       "      <td>2018-05-01</td>\n",
       "      <td>1626.487</td>\n",
       "    </tr>\n",
       "    <tr>\n",
       "      <th>509</th>\n",
       "      <td>2018-06-01</td>\n",
       "      <td>1586.668</td>\n",
       "    </tr>\n",
       "    <tr>\n",
       "      <th>510</th>\n",
       "      <td>2018-07-01</td>\n",
       "      <td>1403.206</td>\n",
       "    </tr>\n",
       "    <tr>\n",
       "      <th>511</th>\n",
       "      <td>2018-08-01</td>\n",
       "      <td>1521.287</td>\n",
       "    </tr>\n",
       "    <tr>\n",
       "      <th>512</th>\n",
       "      <td>2018-09-01</td>\n",
       "      <td>1469.569</td>\n",
       "    </tr>\n",
       "  </tbody>\n",
       "</table>\n",
       "<p>513 rows × 2 columns</p>\n",
       "</div>"
      ],
      "text/plain": [
       "           DATE  TOTALNSA\n",
       "0    1976-01-01   885.200\n",
       "1    1976-02-01   994.700\n",
       "2    1976-03-01  1243.600\n",
       "3    1976-04-01  1191.200\n",
       "4    1976-05-01  1203.200\n",
       "..          ...       ...\n",
       "508  2018-05-01  1626.487\n",
       "509  2018-06-01  1586.668\n",
       "510  2018-07-01  1403.206\n",
       "511  2018-08-01  1521.287\n",
       "512  2018-09-01  1469.569\n",
       "\n",
       "[513 rows x 2 columns]"
      ]
     },
     "execution_count": 144,
     "metadata": {},
     "output_type": "execute_result"
    }
   ],
   "source": [
    "dfVS"
   ]
  },
  {
   "cell_type": "code",
   "execution_count": 154,
   "metadata": {},
   "outputs": [
    {
     "data": {
      "image/png": "[encoded data removed]",
      "text/plain": [
       "<Figure size 432x288 with 1 Axes>"
      ]
     },
     "metadata": {
      "needs_background": "light"
     },
     "output_type": "display_data"
    }
   ],
   "source": [
    "import matplotlib.pyplot as plt\n",
    "\n",
    "fig,ax = plt.subplots()\n",
    "ax.plot(dfVS['DATE'], dfVS['TOTALNSA'])\n",
    "plt.title('Trend of US Vehicle Sales Over Time')\n",
    "plt.xlabel('Date')\n",
    "plt.ylabel('Total Vehicle Sales')\n",
    "plt.show()\n",
    "\n",
    "# I chose a line graph becuase this is time-series data and the order of the points is very important."
   ]
  },
  {
   "cell_type": "code",
   "execution_count": null,
   "metadata": {},
   "outputs": [],
   "source": []
  }
 ],
 "metadata": {
  "kernelspec": {
   "display_name": "Python 3",
   "language": "python",
   "name": "python3"
  },
  "language_info": {
   "codemirror_mode": {
    "name": "ipython",
    "version": 3
   },
   "file_extension": ".py",
   "mimetype": "text/x-python",
   "name": "python",
   "nbconvert_exporter": "python",
   "pygments_lexer": "ipython3",
   "version": "3.8.5"
  }
 },
 "nbformat": 4,
 "nbformat_minor": 4
}
